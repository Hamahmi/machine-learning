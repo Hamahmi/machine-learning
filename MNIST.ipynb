{
  "nbformat": 4,
  "nbformat_minor": 0,
  "metadata": {
    "colab": {
      "name": "MNIST.ipynb",
      "version": "0.3.2",
      "provenance": [],
      "collapsed_sections": [],
      "toc_visible": true,
      "include_colab_link": true
    },
    "kernelspec": {
      "name": "python3",
      "display_name": "Python 3"
    }
  },
  "cells": [
    {
      "cell_type": "markdown",
      "metadata": {
        "id": "view-in-github",
        "colab_type": "text"
      },
      "source": [
        "[View in Colaboratory](https://colab.research.google.com/github/Hamahmi/machine-learning/blob/master/MNIST.ipynb)"
      ]
    },
    {
      "metadata": {
        "id": "Ybenv8OlvPO9",
        "colab_type": "text"
      },
      "cell_type": "markdown",
      "source": [
        "## Using Neural Network to classify MNIST Dataset"
      ]
    },
    {
      "metadata": {
        "id": "op7g7DW7vez0",
        "colab_type": "text"
      },
      "cell_type": "markdown",
      "source": [
        "### Importing All Libraries\n",
        "\n",
        "I prefere that all importings to be first but ofcourse you can import anywhere (This is Python, not as restrected as java :D )"
      ]
    },
    {
      "metadata": {
        "id": "c8eBW1mhvKlW",
        "colab_type": "code",
        "colab": {
          "base_uri": "https://localhost:8080/",
          "height": 85
        },
        "outputId": "f7fd9b68-af6a-40e9-f67e-a93a9e5f70df"
      },
      "cell_type": "code",
      "source": [
        "# Import libraries necessary for this project\n",
        "\n",
        "import numpy as np\n",
        "\n",
        "from keras.datasets       import mnist\n",
        "from keras.utils.np_utils import to_categorical\n",
        "from keras.models         import Sequential\n",
        "from keras.layers         import Dense\n",
        "from keras.layers         import Dropout\n",
        "from matplotlib.pyplot    import imshow\n",
        "from PIL                  import Image\n",
        "from random               import randint\n",
        "\n",
        "\n",
        "print(\"\\nImporting ✓\\n\")"
      ],
      "execution_count": 1,
      "outputs": [
        {
          "output_type": "stream",
          "text": [
            "Using TensorFlow backend.\n"
          ],
          "name": "stderr"
        },
        {
          "output_type": "stream",
          "text": [
            "\n",
            "Importing ✓\n",
            "\n"
          ],
          "name": "stdout"
        }
      ]
    },
    {
      "metadata": {
        "id": "PArinEEJwK6r",
        "colab_type": "text"
      },
      "cell_type": "markdown",
      "source": [
        "### Loading the Data\n",
        "Loading the data and getting information about it."
      ]
    },
    {
      "metadata": {
        "id": "Gz3fLb29vcWT",
        "colab_type": "code",
        "colab": {
          "base_uri": "https://localhost:8080/",
          "height": 102
        },
        "outputId": "adeef6c5-bfb5-486c-f9b2-f8a80636ac8a"
      },
      "cell_type": "code",
      "source": [
        "# Load the Iris dataset\n",
        "\n",
        "(train_set_1, train_set_2), (test_set_1, test_set_2) = mnist.load_data()\n",
        "\n",
        "print(\"\\nLoading ✓\\n\")\n",
        "print(\"Train set 1 size: \", train_set_1.size/train_set_1[0].size)\n",
        "print(\"Test  set 1 size: \",  test_set_1.size/ test_set_1[0].size)"
      ],
      "execution_count": 2,
      "outputs": [
        {
          "output_type": "stream",
          "text": [
            "\n",
            "Loading ✓\n",
            "\n",
            "Train set 1 size:  60000.0\n",
            "Test  set 1 size:  10000.0\n"
          ],
          "name": "stdout"
        }
      ]
    },
    {
      "metadata": {
        "id": "IyP0590q2cqM",
        "colab_type": "text"
      },
      "cell_type": "markdown",
      "source": [
        "### Exploring the data\n"
      ]
    },
    {
      "metadata": {
        "id": "jSza3Xltytgl",
        "colab_type": "code",
        "colab": {
          "base_uri": "https://localhost:8080/",
          "height": 333
        },
        "outputId": "8c548e71-5fc8-4a8d-8f5a-4c26252ed5e3"
      },
      "cell_type": "code",
      "source": [
        "%matplotlib inline\n",
        "# everytime you run you'll get another data point \n",
        "random = randint(0, 60000)\n",
        "print (train_set_2[random])\n",
        "imshow(train_set_1[random])\n",
        "print(\"\\nExploring ✓\\n\")"
      ],
      "execution_count": 3,
      "outputs": [
        {
          "output_type": "stream",
          "text": [
            "2\n",
            "\n",
            "Exploring ✓\n",
            "\n"
          ],
          "name": "stdout"
        },
        {
          "output_type": "display_data",
          "data": {
            "image/png": "[encoded data removed]",
            "text/plain": [
              "<matplotlib.figure.Figure at 0x7f27fa3e16d8>"
            ]
          },
          "metadata": {
            "tags": []
          }
        }
      ]
    },
    {
      "metadata": {
        "id": "Yl431du5AM24",
        "colab_type": "text"
      },
      "cell_type": "markdown",
      "source": [
        "### Reshaping the Data to fit the Model"
      ]
    },
    {
      "metadata": {
        "id": "oCZRcFIz71Cg",
        "colab_type": "code",
        "colab": {
          "base_uri": "https://localhost:8080/",
          "height": 136
        },
        "outputId": "818fe487-e74c-4ebe-c7c1-e2c59d3460a3"
      },
      "cell_type": "code",
      "source": [
        "train_set_1 = train_set_1.reshape(train_set_1.shape[0], -1)\n",
        "test_set_1 = test_set_1.reshape(test_set_1.shape[0], -1)\n",
        "\n",
        "train_set_1 = train_set_1 / 255\n",
        "test_set_1 = test_set_1 / 255\n",
        "print (train_set_1.shape)\n",
        "print (test_set_1.shape)\n",
        "train_set_2 = to_categorical(train_set_2,num_classes = 10)\n",
        "test_set_2 = to_categorical(test_set_2,num_classes = 10)\n",
        "print(train_set_2.shape)\n",
        "print(test_set_2.shape)\n",
        "\n",
        "print(\"\\nReshaping ✓\\n\")"
      ],
      "execution_count": 4,
      "outputs": [
        {
          "output_type": "stream",
          "text": [
            "(60000, 784)\n",
            "(10000, 784)\n",
            "(60000, 10)\n",
            "(10000, 10)\n",
            "\n",
            "Reshaping ✓\n",
            "\n"
          ],
          "name": "stdout"
        }
      ]
    },
    {
      "metadata": {
        "id": "Y7o_KVfF2WYZ",
        "colab_type": "text"
      },
      "cell_type": "markdown",
      "source": [
        "### Selectin the Model\n",
        "\n",
        "The model is 1 hidden layar with 900 neurons, ReLU and an output layar with 10 neurons, Softmax"
      ]
    },
    {
      "metadata": {
        "id": "_SXNb4MJ1_ZV",
        "colab_type": "code",
        "colab": {
          "base_uri": "https://localhost:8080/",
          "height": 85
        },
        "outputId": "42148453-3227-4026-b6b8-5377cbba8c0c"
      },
      "cell_type": "code",
      "source": [
        "model = Sequential()\n",
        "\n",
        "# Hidden layer\n",
        "model.add(Dense(units=900, activation='relu', input_shape=(784,)))\n",
        "model.add(Dropout(0.3))\n",
        "\n",
        "# Output layer\n",
        "model.add(Dense(units=10, activation='softmax'))\n",
        "\n",
        "# compiling the model\n",
        "model.compile(loss='categorical_crossentropy', optimizer='adam', metrics=['accuracy'])\n",
        "\n",
        "print(model.output_shape)\n",
        "\n",
        "print(\"\\nCompiling ✓\\n\")"
      ],
      "execution_count": 5,
      "outputs": [
        {
          "output_type": "stream",
          "text": [
            "(None, 10)\n",
            "\n",
            "Compiling ✓\n",
            "\n"
          ],
          "name": "stdout"
        }
      ]
    },
    {
      "metadata": {
        "id": "9h2Zy3zb5QUg",
        "colab_type": "text"
      },
      "cell_type": "markdown",
      "source": [
        "### Training the Model"
      ]
    },
    {
      "metadata": {
        "id": "fpFTAqC94FGz",
        "colab_type": "code",
        "colab": {
          "base_uri": "https://localhost:8080/",
          "height": 408
        },
        "outputId": "71803456-9da4-4858-a30b-7eea4c79325f"
      },
      "cell_type": "code",
      "source": [
        "model.fit(train_set_1, train_set_2, epochs=10, batch_size=200, verbose=2)\n",
        "print(\"\\nTraining ✓\\n\")"
      ],
      "execution_count": 6,
      "outputs": [
        {
          "output_type": "stream",
          "text": [
            "Epoch 1/10\n",
            " - 8s - loss: 0.2942 - acc: 0.9152\n",
            "Epoch 2/10\n",
            " - 7s - loss: 0.1256 - acc: 0.9635\n",
            "Epoch 3/10\n",
            " - 8s - loss: 0.0872 - acc: 0.9744\n",
            "Epoch 4/10\n",
            " - 8s - loss: 0.0663 - acc: 0.9805\n",
            "Epoch 5/10\n",
            " - 7s - loss: 0.0534 - acc: 0.9840\n",
            "Epoch 6/10\n",
            " - 7s - loss: 0.0439 - acc: 0.9865\n",
            "Epoch 7/10\n",
            " - 8s - loss: 0.0355 - acc: 0.9894\n",
            "Epoch 8/10\n",
            " - 7s - loss: 0.0294 - acc: 0.9911\n",
            "Epoch 9/10\n",
            " - 7s - loss: 0.0260 - acc: 0.9920\n",
            "Epoch 10/10\n",
            " - 7s - loss: 0.0218 - acc: 0.9934\n",
            "\n",
            "Training ✓\n",
            "\n"
          ],
          "name": "stdout"
        }
      ]
    },
    {
      "metadata": {
        "id": "LIiGK4zfBTPj",
        "colab_type": "text"
      },
      "cell_type": "markdown",
      "source": [
        "### Finally The results to evaluate the model"
      ]
    },
    {
      "metadata": {
        "id": "f-r3cxCTBYlu",
        "colab_type": "text"
      },
      "cell_type": "markdown",
      "source": [
        "#### First on the training set"
      ]
    },
    {
      "metadata": {
        "id": "rMKLkxkF9SZO",
        "colab_type": "code",
        "colab": {
          "base_uri": "https://localhost:8080/",
          "height": 68
        },
        "outputId": "12b3fb1d-be33-4413-b9d2-21e36004f7f3"
      },
      "cell_type": "code",
      "source": [
        "(error, accuracy) = model.evaluate(train_set_1, train_set_2)\n",
        "print( \"train error = \", error)\n",
        "print(\"accuracy = \", accuracy*100, \"%\")"
      ],
      "execution_count": 7,
      "outputs": [
        {
          "output_type": "stream",
          "text": [
            "60000/60000 [==============================] - 5s 79us/step\n",
            "train error =  0.009505359432516465\n",
            "accuracy =  99.82 %\n"
          ],
          "name": "stdout"
        }
      ]
    },
    {
      "metadata": {
        "id": "aRyzsFfCBfYH",
        "colab_type": "text"
      },
      "cell_type": "markdown",
      "source": [
        "#### Then on the testing set "
      ]
    },
    {
      "metadata": {
        "id": "oSiyA5lB55qW",
        "colab_type": "code",
        "colab": {
          "base_uri": "https://localhost:8080/",
          "height": 68
        },
        "outputId": "093cbdb1-0261-4afa-e707-2ba302c22767"
      },
      "cell_type": "code",
      "source": [
        "(error, accuracy) = model.evaluate(test_set_1, test_set_2)\n",
        "print( \"test error = \", error)\n",
        "print(\"accuracy = \", accuracy*100, \"%\")"
      ],
      "execution_count": 8,
      "outputs": [
        {
          "output_type": "stream",
          "text": [
            "10000/10000 [==============================] - 1s 84us/step\n",
            "test error =  0.05215337604013621\n",
            "accuracy =  98.39 %\n"
          ],
          "name": "stdout"
        }
      ]
    },
    {
      "metadata": {
        "id": "wXS_MxM3BlyM",
        "colab_type": "text"
      },
      "cell_type": "markdown",
      "source": [
        "*End of the Project :)*"
      ]
    },
    {
      "metadata": {
        "id": "fP94GYtBFO5m",
        "colab_type": "text"
      },
      "cell_type": "markdown",
      "source": [
        "[Drive](https://colab.research.google.com/drive/1CaoOf0YDyWBvkRGSHfUxM4bHuO2t4o5x#scrollTo=Ybenv8OlvPO9)"
      ]
    },
    {
      "metadata": {
        "id": "Zi7VIvpnBo6a",
        "colab_type": "code",
        "colab": {
          "base_uri": "https://localhost:8080/",
          "height": 68
        },
        "outputId": "2ee88042-f6a9-4865-bb8f-4052f8101f47"
      },
      "cell_type": "code",
      "source": [
        "print(\"\\nPROJECT ✓\\n\")"
      ],
      "execution_count": 9,
      "outputs": [
        {
          "output_type": "stream",
          "text": [
            "\n",
            "PROJECT ✓\n",
            "\n"
          ],
          "name": "stdout"
        }
      ]
    }
  ]
}