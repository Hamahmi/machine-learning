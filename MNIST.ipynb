{
  "nbformat": 4,
  "nbformat_minor": 0,
  "metadata": {
    "colab": {
      "name": "MNIST.ipynb",
      "version": "0.3.2",
      "provenance": [],
      "include_colab_link": true
    },
    "kernelspec": {
      "name": "python3",
      "display_name": "Python 3"
    }
  },
  "cells": [
    {
      "cell_type": "markdown",
      "metadata": {
        "id": "view-in-github",
        "colab_type": "text"
      },
      "source": [
        "[View in Colaboratory](https://colab.research.google.com/github/Hamahmi/machine-learning/blob/master/MNIST.ipynb)"
      ]
    },
    {
      "metadata": {
        "id": "Ybenv8OlvPO9",
        "colab_type": "text"
      },
      "cell_type": "markdown",
      "source": [
        "## Using Neural Network to classify MNIST Dataset"
      ]
    },
    {
      "metadata": {
        "id": "op7g7DW7vez0",
        "colab_type": "text"
      },
      "cell_type": "markdown",
      "source": [
        "### Importing All Libraries\n",
        "\n",
        "I prefere that all importings to be first but ofcourse you can import anywhere (This is Python, not as restrected as java :D )"
      ]
    },
    {
      "metadata": {
        "id": "c8eBW1mhvKlW",
        "colab_type": "code",
        "colab": {
          "base_uri": "https://localhost:8080/",
          "height": 85
        },
        "outputId": "9858fcab-297c-4148-daad-027228e0b3cb"
      },
      "cell_type": "code",
      "source": [
        "# Import libraries necessary for this project\n",
        "\n",
        "import numpy as np\n",
        "\n",
        "from keras.datasets       import mnist\n",
        "from keras.utils.np_utils import to_categorical\n",
        "from keras.models         import Sequential\n",
        "from keras.layers         import Dense\n",
        "from keras.layers         import Dropout\n",
        "from matplotlib.pyplot    import imshow\n",
        "from PIL                  import Image\n",
        "from random               import randint\n",
        "\n",
        "\n",
        "print(\"\\nImporting ✓\\n\")"
      ],
      "execution_count": 1,
      "outputs": [
        {
          "output_type": "stream",
          "text": [
            "Using TensorFlow backend.\n"
          ],
          "name": "stderr"
        },
        {
          "output_type": "stream",
          "text": [
            "\n",
            "Importing ✓\n",
            "\n"
          ],
          "name": "stdout"
        }
      ]
    },
    {
      "metadata": {
        "id": "PArinEEJwK6r",
        "colab_type": "text"
      },
      "cell_type": "markdown",
      "source": [
        "### Loading the Data\n",
        "Loading the data and getting information about it."
      ]
    },
    {
      "metadata": {
        "id": "Gz3fLb29vcWT",
        "colab_type": "code",
        "colab": {
          "base_uri": "https://localhost:8080/",
          "height": 102
        },
        "outputId": "e068e2a2-f1e6-4ef8-a251-b3583b9c1681"
      },
      "cell_type": "code",
      "source": [
        "# Load the Iris dataset\n",
        "\n",
        "(train_set_1, train_set_2), (test_set_1, test_set_2) = mnist.load_data()\n",
        "\n",
        "print(\"\\nLoading ✓\\n\")\n",
        "print(\"Train set 1 size: \", train_set_1.size/train_set_1[0].size)\n",
        "print(\"Test  set 1 size: \",  test_set_1.size/ test_set_1[0].size)"
      ],
      "execution_count": 2,
      "outputs": [
        {
          "output_type": "stream",
          "text": [
            "\n",
            "Loading ✓\n",
            "\n",
            "Train set 1 size:  60000.0\n",
            "Test  set 1 size:  10000.0\n"
          ],
          "name": "stdout"
        }
      ]
    },
    {
      "metadata": {
        "id": "IyP0590q2cqM",
        "colab_type": "text"
      },
      "cell_type": "markdown",
      "source": [
        "### Exploring the data\n"
      ]
    },
    {
      "metadata": {
        "id": "jSza3Xltytgl",
        "colab_type": "code",
        "colab": {
          "base_uri": "https://localhost:8080/",
          "height": 299
        },
        "outputId": "b371c565-2a11-46f3-f903-9eecc8354d94"
      },
      "cell_type": "code",
      "source": [
        "%matplotlib inline\n",
        "# everytime you run you'll get another data point \n",
        "random = randint(0, 60000)\n",
        "print (train_set_2[random])\n",
        "imshow(train_set_1[random])"
      ],
      "execution_count": 3,
      "outputs": [
        {
          "output_type": "stream",
          "text": [
            "2\n"
          ],
          "name": "stdout"
        },
        {
          "output_type": "execute_result",
          "data": {
            "text/plain": [
              "<matplotlib.image.AxesImage at 0x7f07d6baa080>"
            ]
          },
          "metadata": {
            "tags": []
          },
          "execution_count": 3
        },
        {
          "output_type": "display_data",
          "data": {
            "image/png": "[encoded data removed]",
            "text/plain": [
              "<matplotlib.figure.Figure at 0x7f07e4642748>"
            ]
          },
          "metadata": {
            "tags": []
          }
        }
      ]
    },
    {
      "metadata": {
        "id": "Yl431du5AM24",
        "colab_type": "text"
      },
      "cell_type": "markdown",
      "source": [
        "### Reshaping the Data to fit the Model"
      ]
    },
    {
      "metadata": {
        "id": "oCZRcFIz71Cg",
        "colab_type": "code",
        "colab": {
          "base_uri": "https://localhost:8080/",
          "height": 85
        },
        "outputId": "17c5668a-151b-4dd6-ff60-a2d57ba7d9e1"
      },
      "cell_type": "code",
      "source": [
        "train_set_1 = train_set_1.reshape(train_set_1.shape[0], -1)\n",
        "test_set_1 = test_set_1.reshape(test_set_1.shape[0], -1)\n",
        "\n",
        "train_set_1 = train_set_1 / 255\n",
        "test_set_1 = test_set_1 / 255\n",
        "print (train_set_1.shape)\n",
        "print (test_set_1.shape)\n",
        "train_set_2 = to_categorical(train_set_2,num_classes = 10)\n",
        "test_set_2 = to_categorical(test_set_2,num_classes = 10)\n",
        "print(train_set_2.shape)\n",
        "print(test_set_2.shape)"
      ],
      "execution_count": 4,
      "outputs": [
        {
          "output_type": "stream",
          "text": [
            "(60000, 784)\n",
            "(10000, 784)\n",
            "(60000, 10)\n",
            "(10000, 10)\n"
          ],
          "name": "stdout"
        }
      ]
    },
    {
      "metadata": {
        "id": "Y7o_KVfF2WYZ",
        "colab_type": "text"
      },
      "cell_type": "markdown",
      "source": [
        "## Selectin the Model\n",
        "\n",
        "The model is 1 hidden layar with 900 neurons, ReLU and an output layar with 10 neurons, Softmax"
      ]
    },
    {
      "metadata": {
        "id": "_SXNb4MJ1_ZV",
        "colab_type": "code",
        "colab": {
          "base_uri": "https://localhost:8080/",
          "height": 34
        },
        "outputId": "ff39b54f-a197-4fcf-ed51-af89034087e2"
      },
      "cell_type": "code",
      "source": [
        "model = Sequential()\n",
        "\n",
        "# Hidden layer\n",
        "model.add(Dense(units=900, activation='relu', input_shape=(784,)))\n",
        "model.add(Dropout(0.3))\n",
        "\n",
        "# Output layer\n",
        "model.add(Dense(units=10, activation='softmax'))\n",
        "\n",
        "# compiling the model\n",
        "model.compile(loss='categorical_crossentropy', optimizer='adam', metrics=['accuracy'])\n",
        "\n",
        "print(model.output_shape)"
      ],
      "execution_count": 5,
      "outputs": [
        {
          "output_type": "stream",
          "text": [
            "(None, 10)\n"
          ],
          "name": "stdout"
        }
      ]
    },
    {
      "metadata": {
        "id": "9h2Zy3zb5QUg",
        "colab_type": "text"
      },
      "cell_type": "markdown",
      "source": [
        "### Training the Model"
      ]
    },
    {
      "metadata": {
        "id": "fpFTAqC94FGz",
        "colab_type": "code",
        "colab": {
          "base_uri": "https://localhost:8080/",
          "height": 374
        },
        "outputId": "a5ee9713-3313-47b9-fffe-0cc15f43de01"
      },
      "cell_type": "code",
      "source": [
        "model.fit(train_set_1, train_set_2, epochs=10, batch_size=200, verbose=2)"
      ],
      "execution_count": 6,
      "outputs": [
        {
          "output_type": "stream",
          "text": [
            "Epoch 1/10\n",
            " - 7s - loss: 0.2940 - acc: 0.9150\n",
            "Epoch 2/10\n",
            " - 7s - loss: 0.1252 - acc: 0.9630\n",
            "Epoch 3/10\n",
            " - 8s - loss: 0.0872 - acc: 0.9745\n",
            "Epoch 4/10\n",
            " - 8s - loss: 0.0667 - acc: 0.9801\n",
            "Epoch 5/10\n",
            " - 8s - loss: 0.0521 - acc: 0.9841\n",
            "Epoch 6/10\n",
            " - 8s - loss: 0.0441 - acc: 0.9862\n",
            "Epoch 7/10\n",
            " - 8s - loss: 0.0359 - acc: 0.9892\n",
            "Epoch 8/10\n",
            " - 8s - loss: 0.0300 - acc: 0.9906\n",
            "Epoch 9/10\n",
            " - 8s - loss: 0.0253 - acc: 0.9921\n",
            "Epoch 10/10\n",
            " - 8s - loss: 0.0212 - acc: 0.9938\n"
          ],
          "name": "stdout"
        },
        {
          "output_type": "execute_result",
          "data": {
            "text/plain": [
              "<keras.callbacks.History at 0x7f07e46422e8>"
            ]
          },
          "metadata": {
            "tags": []
          },
          "execution_count": 6
        }
      ]
    },
    {
      "metadata": {
        "id": "LIiGK4zfBTPj",
        "colab_type": "text"
      },
      "cell_type": "markdown",
      "source": [
        "### Finally The results to evaluate the model"
      ]
    },
    {
      "metadata": {
        "id": "f-r3cxCTBYlu",
        "colab_type": "text"
      },
      "cell_type": "markdown",
      "source": [
        "#### First on the training set"
      ]
    },
    {
      "metadata": {
        "id": "rMKLkxkF9SZO",
        "colab_type": "code",
        "colab": {
          "base_uri": "https://localhost:8080/",
          "height": 68
        },
        "outputId": "4961e237-d8b2-4fcb-d796-da03c56b628a"
      },
      "cell_type": "code",
      "source": [
        "(error, accuracy) = model.evaluate(train_set_1, train_set_2)\n",
        "print( \"train error = \", error)\n",
        "print(\"accuracy = \", accuracy*100, \"%\")"
      ],
      "execution_count": 7,
      "outputs": [
        {
          "output_type": "stream",
          "text": [
            "60000/60000 [==============================] - 5s 75us/step\n",
            "train error =  0.009444613065679248\n",
            "accuracy =  99.80166666666666 %\n"
          ],
          "name": "stdout"
        }
      ]
    },
    {
      "metadata": {
        "id": "aRyzsFfCBfYH",
        "colab_type": "text"
      },
      "cell_type": "markdown",
      "source": [
        "#### Then on the testing set "
      ]
    },
    {
      "metadata": {
        "id": "oSiyA5lB55qW",
        "colab_type": "code",
        "colab": {
          "base_uri": "https://localhost:8080/",
          "height": 68
        },
        "outputId": "17e2f807-66ab-48d5-d9f1-f8589a2148bc"
      },
      "cell_type": "code",
      "source": [
        "(error, accuracy) = model.evaluate(test_set_1, test_set_2)\n",
        "print( \"test error = \", error)\n",
        "print(\"accuracy = \", accuracy*100, \"%\")"
      ],
      "execution_count": 8,
      "outputs": [
        {
          "output_type": "stream",
          "text": [
            "10000/10000 [==============================] - 1s 68us/step\n",
            "test error =  0.05460691080382676\n",
            "accuracy =  98.42999999999999 %\n"
          ],
          "name": "stdout"
        }
      ]
    },
    {
      "metadata": {
        "id": "wXS_MxM3BlyM",
        "colab_type": "text"
      },
      "cell_type": "markdown",
      "source": [
        "*End of the Project :)*"
      ]
    },
    {
      "metadata": {
        "id": "Zi7VIvpnBo6a",
        "colab_type": "code",
        "colab": {}
      },
      "cell_type": "code",
      "source": [
        ""
      ],
      "execution_count": 0,
      "outputs": []
    }
  ]
}