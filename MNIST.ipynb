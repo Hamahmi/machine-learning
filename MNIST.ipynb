{
  "nbformat": 4,
  "nbformat_minor": 0,
  "metadata": {
    "colab": {
      "name": "MNIST.ipynb",
      "version": "0.3.2",
      "provenance": [],
      "collapsed_sections": [],
      "toc_visible": true,
      "include_colab_link": true
    },
    "kernelspec": {
      "name": "python3",
      "display_name": "Python 3"
    }
  },
  "cells": [
    {
      "cell_type": "markdown",
      "metadata": {
        "id": "view-in-github",
        "colab_type": "text"
      },
      "source": [
        "[View in Colaboratory](https://colab.research.google.com/github/Hamahmi/machine-learning/blob/master/MNIST.ipynb)"
      ]
    },
    {
      "metadata": {
        "id": "Ybenv8OlvPO9",
        "colab_type": "text"
      },
      "cell_type": "markdown",
      "source": [
        "## Using Neural Network to classify MNIST Dataset"
      ]
    },
    {
      "metadata": {
        "id": "yE0oMVVzoEyR",
        "colab_type": "text"
      },
      "cell_type": "markdown",
      "source": [
        "### Introduction\n",
        "\n",
        "In this tutorial we will use [Deep Neural Networks](https://en.wikipedia.org/wiki/Deep_learning) to classify hand digit characters in the [MNIST dataset](https://en.wikipedia.org/wiki/MNIST_database).\n",
        "\n",
        "We will use a higher level library called [keras](https://keras.io/backend/) with tensorflow as the backend."
      ]
    },
    {
      "metadata": {
        "id": "op7g7DW7vez0",
        "colab_type": "text"
      },
      "cell_type": "markdown",
      "source": [
        "### Importing All Libraries\n",
        "\n",
        "I prefere that all importings to be first but ofcourse you can import anywhere (This is Python, not as restrected as java :D )"
      ]
    },
    {
      "metadata": {
        "id": "c8eBW1mhvKlW",
        "colab_type": "code",
        "colab": {
          "base_uri": "https://localhost:8080/",
          "height": 85
        },
        "outputId": "c37fc3cc-6b53-463e-ff51-208fb43712d2"
      },
      "cell_type": "code",
      "source": [
        "# Import libraries necessary for this project\n",
        "\n",
        "import numpy as np\n",
        "\n",
        "from keras.datasets       import mnist\n",
        "from keras.utils.np_utils import to_categorical\n",
        "from keras.models         import Sequential\n",
        "from keras.layers         import Dense\n",
        "from keras.layers         import Dropout\n",
        "from matplotlib.pyplot    import imshow\n",
        "from PIL                  import Image\n",
        "from random               import randint\n",
        "\n",
        "\n",
        "print(\"\\nImporting ✓\\n\")"
      ],
      "execution_count": 1,
      "outputs": [
        {
          "output_type": "stream",
          "text": [
            "Using TensorFlow backend.\n"
          ],
          "name": "stderr"
        },
        {
          "output_type": "stream",
          "text": [
            "\n",
            "Importing ✓\n",
            "\n"
          ],
          "name": "stdout"
        }
      ]
    },
    {
      "metadata": {
        "id": "PArinEEJwK6r",
        "colab_type": "text"
      },
      "cell_type": "markdown",
      "source": [
        "### Loading the Data\n",
        "We will load the data into x_train, y_train and x_test, y_test, in the next section we will get information about the data."
      ]
    },
    {
      "metadata": {
        "id": "Gz3fLb29vcWT",
        "colab_type": "code",
        "colab": {
          "base_uri": "https://localhost:8080/",
          "height": 68
        },
        "outputId": "a5bcbe6f-7af9-4beb-b200-69b1aba014d6"
      },
      "cell_type": "code",
      "source": [
        "# Load the Iris dataset\n",
        "\n",
        "(x_train, y_train), (x_test, y_test) = mnist.load_data()\n",
        "\n",
        "print(\"\\nLoading ✓\\n\")"
      ],
      "execution_count": 2,
      "outputs": [
        {
          "output_type": "stream",
          "text": [
            "\n",
            "Loading ✓\n",
            "\n"
          ],
          "name": "stdout"
        }
      ]
    },
    {
      "metadata": {
        "id": "IyP0590q2cqM",
        "colab_type": "text"
      },
      "cell_type": "markdown",
      "source": [
        "### Exploring the data\n",
        "This step is a very important step, sice we need to know the characteristics of the data to choose later the algorithm with which we can classify the data and which accuracy metric you are going to use. We will know the shape the data is saved with and the classes we have.\n",
        "\n",
        "In the 2nd part of the code we will get a point from the training set and print an image of it along with the class to get an idea of the data points."
      ]
    },
    {
      "metadata": {
        "id": "jSza3Xltytgl",
        "colab_type": "code",
        "colab": {
          "base_uri": "https://localhost:8080/",
          "height": 435
        },
        "outputId": "34f0eb99-a088-4745-b60f-26d0d7f42721"
      },
      "cell_type": "code",
      "source": [
        "print(\"There are\", x_train.shape[0] , \"training examples.\")\n",
        "print(\"And\",  x_test.shape[0], \"testing examples.\")\n",
        "print(\"The images are with dimensions :\", x_train.shape[1] ,\"x\", x_train.shape[2])\n",
        "print(\"\\nThe classes we have are :\",np.unique(y_train))\n",
        "\n",
        "%matplotlib inline\n",
        "# everytime you run you'll get another data point \n",
        "random = randint(0, 60000)\n",
        "print (\"\\nThe class you got is\",y_train[random])\n",
        "imshow(x_train[random])\n",
        "print(\"\\nExploring ✓\\n\")"
      ],
      "execution_count": 3,
      "outputs": [
        {
          "output_type": "stream",
          "text": [
            "There are 60000 training examples.\n",
            "And 10000 testing examples.\n",
            "The images are with dimensions : 28 x 28\n",
            "\n",
            "The classes we have are : [0 1 2 3 4 5 6 7 8 9]\n",
            "\n",
            "The class you got is 4\n",
            "\n",
            "Exploring ✓\n",
            "\n"
          ],
          "name": "stdout"
        },
        {
          "output_type": "display_data",
          "data": {
            "image/png": "[encoded data removed]",
            "text/plain": [
              "<matplotlib.figure.Figure at 0x7f4c3cf80a90>"
            ]
          },
          "metadata": {
            "tags": []
          }
        }
      ]
    },
    {
      "metadata": {
        "id": "ZvHGg--UqVFA",
        "colab_type": "text"
      },
      "cell_type": "markdown",
      "source": [
        "One can see that the dataset consists of 60,000 training example each is a 2D array as an image of dimention 28 * 28. One can also see that we have 10 classes which represent the digits from 0 to 9 crossponding to the data."
      ]
    },
    {
      "metadata": {
        "id": "Yl431du5AM24",
        "colab_type": "text"
      },
      "cell_type": "markdown",
      "source": [
        "### Reshaping the Data to fit the Model\n",
        "\n",
        "Since we are deciding to make a sequential model the data needs to be reshaped to fit as following :\n",
        "-  Reshaping the input data from 2D array with dimension of 28x28 to a 1D vector with a size of 784 in order to pass it to the Deep Neural Network.\n",
        "- Normalizing the input data that ranges from 0 to 255 to range from 0 to 1 by deviding it by 255.\n",
        "- Using to_categorial to split the output into 10 distinct  class labels so that we can use the [Softmax function](https://en.wikipedia.org/wiki/Softmax_function) as out multicalss classifier in the next section."
      ]
    },
    {
      "metadata": {
        "id": "oCZRcFIz71Cg",
        "colab_type": "code",
        "colab": {
          "base_uri": "https://localhost:8080/",
          "height": 136
        },
        "outputId": "5e442902-c2c5-4e30-aba7-412e8ba86146"
      },
      "cell_type": "code",
      "source": [
        "# Rehaping the data from 2D array with size 28x28 to 1D array (vector) with size 784\n",
        "x_train = x_train.reshape(x_train.shape[0], -1)\n",
        "x_test  =  x_test.reshape(x_test.shape[0], -1)\n",
        "\n",
        "#  Normalizing the data to be in range from 0 to 1 instead of 0 to 255 \n",
        "x_train = x_train / 255\n",
        "x_test  = x_test  / 255\n",
        "print (x_train.shape)\n",
        "print ( x_test.shape)\n",
        "\n",
        "# Splitting the output to 10 distinct calsses\n",
        "y_train = to_categorical(y_train,num_classes = 10)\n",
        "y_test  = to_categorical( y_test,num_classes = 10)\n",
        "print(y_train.shape)\n",
        "print( y_test.shape)\n",
        "\n",
        "print(\"\\nReshaping ✓\\n\")"
      ],
      "execution_count": 4,
      "outputs": [
        {
          "output_type": "stream",
          "text": [
            "(60000, 784)\n",
            "(10000, 784)\n",
            "(60000, 10)\n",
            "(10000, 10)\n",
            "\n",
            "Reshaping ✓\n",
            "\n"
          ],
          "name": "stdout"
        }
      ]
    },
    {
      "metadata": {
        "id": "Y7o_KVfF2WYZ",
        "colab_type": "text"
      },
      "cell_type": "markdown",
      "source": [
        "### Selectin the Model\n",
        "\n",
        "The model is a [sequential model](https://keras.io/models/sequential/) with 1 hidden layar (_ofcourse you can use more than 1 hidden layar, in fact just uncomment the line after TODO and rerun all the following codes again and see the difference yourself_) with 1024 neurons, ReLU and an output layar with 10 neurons, Softmax as out multiclass classifier as explained above."
      ]
    },
    {
      "metadata": {
        "id": "_SXNb4MJ1_ZV",
        "colab_type": "code",
        "colab": {
          "base_uri": "https://localhost:8080/",
          "height": 68
        },
        "outputId": "48facbb3-7010-419a-e3f8-b9b6ed3a47f0"
      },
      "cell_type": "code",
      "source": [
        "model = Sequential()\n",
        "\n",
        "# Hidden layer\n",
        "model.add(Dense(units=1024, activation='relu', input_shape=(784,)))\n",
        "\n",
        "# TODO \n",
        "# Add another hidden layar(s) as below and rerun all the following codes to observe\n",
        "# model.add(Dense(units=1024, activation='relu' ))\n",
        "# model.add(Dense(units=512 , activation='relu' ))\n",
        "\n",
        "# Output layer\n",
        "model.add(Dense(units=10, activation='softmax'))\n",
        "\n",
        "# compiling the model\n",
        "model.compile(loss='categorical_crossentropy', optimizer='adam', metrics=['accuracy'])\n",
        "\n",
        "print(\"\\nCompiling ✓\\n\")"
      ],
      "execution_count": 5,
      "outputs": [
        {
          "output_type": "stream",
          "text": [
            "\n",
            "Compiling ✓\n",
            "\n"
          ],
          "name": "stdout"
        }
      ]
    },
    {
      "metadata": {
        "id": "9h2Zy3zb5QUg",
        "colab_type": "text"
      },
      "cell_type": "markdown",
      "source": [
        "### Training the Model\n",
        "\n",
        "In this section we will train the Network on the data we have with 30 epochs and the test set as our validation set."
      ]
    },
    {
      "metadata": {
        "id": "fpFTAqC94FGz",
        "colab_type": "code",
        "colab": {
          "base_uri": "https://localhost:8080/",
          "height": 1105
        },
        "outputId": "43f606bf-81bd-4b9a-d910-f99cd9ff95b2"
      },
      "cell_type": "code",
      "source": [
        "model.fit(x_train, y_train, epochs=30, batch_size=200, validation_data=(x_test, y_test), verbose=2)\n",
        "print(\"\\nTraining ✓\\n\")"
      ],
      "execution_count": 6,
      "outputs": [
        {
          "output_type": "stream",
          "text": [
            "Train on 60000 samples, validate on 10000 samples\n",
            "Epoch 1/30\n",
            " - 7s - loss: 0.2651 - acc: 0.9256 - val_loss: 0.1391 - val_acc: 0.9590\n",
            "Epoch 2/30\n",
            " - 7s - loss: 0.1053 - acc: 0.9689 - val_loss: 0.0906 - val_acc: 0.9708\n",
            "Epoch 3/30\n",
            " - 7s - loss: 0.0651 - acc: 0.9810 - val_loss: 0.0740 - val_acc: 0.9763\n",
            "Epoch 4/30\n",
            " - 8s - loss: 0.0456 - acc: 0.9863 - val_loss: 0.0660 - val_acc: 0.9791\n",
            "Epoch 5/30\n",
            " - 7s - loss: 0.0330 - acc: 0.9911 - val_loss: 0.0657 - val_acc: 0.9786\n",
            "Epoch 6/30\n",
            " - 7s - loss: 0.0238 - acc: 0.9933 - val_loss: 0.0595 - val_acc: 0.9807\n",
            "Epoch 7/30\n",
            " - 7s - loss: 0.0170 - acc: 0.9958 - val_loss: 0.0585 - val_acc: 0.9806\n",
            "Epoch 8/30\n",
            " - 7s - loss: 0.0122 - acc: 0.9970 - val_loss: 0.0643 - val_acc: 0.9803\n",
            "Epoch 9/30\n",
            " - 7s - loss: 0.0095 - acc: 0.9980 - val_loss: 0.0651 - val_acc: 0.9812\n",
            "Epoch 10/30\n",
            " - 7s - loss: 0.0074 - acc: 0.9986 - val_loss: 0.0636 - val_acc: 0.9813\n",
            "Epoch 11/30\n",
            " - 7s - loss: 0.0047 - acc: 0.9991 - val_loss: 0.0602 - val_acc: 0.9811\n",
            "Epoch 12/30\n",
            " - 7s - loss: 0.0029 - acc: 0.9997 - val_loss: 0.0617 - val_acc: 0.9816\n",
            "Epoch 13/30\n",
            " - 7s - loss: 0.0028 - acc: 0.9996 - val_loss: 0.0676 - val_acc: 0.9817\n",
            "Epoch 14/30\n",
            " - 7s - loss: 0.0116 - acc: 0.9961 - val_loss: 0.0778 - val_acc: 0.9785\n",
            "Epoch 15/30\n",
            " - 7s - loss: 0.0093 - acc: 0.9973 - val_loss: 0.0654 - val_acc: 0.9801\n",
            "Epoch 16/30\n",
            " - 7s - loss: 0.0034 - acc: 0.9994 - val_loss: 0.0648 - val_acc: 0.9828\n",
            "Epoch 17/30\n",
            " - 7s - loss: 0.0011 - acc: 0.9999 - val_loss: 0.0621 - val_acc: 0.9835\n",
            "Epoch 18/30\n",
            " - 7s - loss: 0.0012 - acc: 0.9998 - val_loss: 0.0663 - val_acc: 0.9823\n",
            "Epoch 19/30\n",
            " - 7s - loss: 0.0013 - acc: 0.9998 - val_loss: 0.0672 - val_acc: 0.9836\n",
            "Epoch 20/30\n",
            " - 7s - loss: 0.0058 - acc: 0.9982 - val_loss: 0.0925 - val_acc: 0.9772\n",
            "Epoch 21/30\n",
            " - 7s - loss: 0.0131 - acc: 0.9951 - val_loss: 0.0707 - val_acc: 0.9814\n",
            "Epoch 22/30\n",
            " - 7s - loss: 0.0046 - acc: 0.9986 - val_loss: 0.0737 - val_acc: 0.9818\n",
            "Epoch 23/30\n",
            " - 7s - loss: 0.0011 - acc: 0.9999 - val_loss: 0.0677 - val_acc: 0.9837\n",
            "Epoch 24/30\n",
            " - 7s - loss: 2.6334e-04 - acc: 1.0000 - val_loss: 0.0663 - val_acc: 0.9845\n",
            "Epoch 25/30\n",
            " - 7s - loss: 1.6847e-04 - acc: 1.0000 - val_loss: 0.0672 - val_acc: 0.9847\n",
            "Epoch 26/30\n",
            " - 7s - loss: 1.3765e-04 - acc: 1.0000 - val_loss: 0.0679 - val_acc: 0.9849\n",
            "Epoch 27/30\n",
            " - 7s - loss: 1.1835e-04 - acc: 1.0000 - val_loss: 0.0685 - val_acc: 0.9848\n",
            "Epoch 28/30\n",
            " - 7s - loss: 1.0226e-04 - acc: 1.0000 - val_loss: 0.0694 - val_acc: 0.9844\n",
            "Epoch 29/30\n",
            " - 7s - loss: 9.1184e-05 - acc: 1.0000 - val_loss: 0.0696 - val_acc: 0.9846\n",
            "Epoch 30/30\n",
            " - 7s - loss: 8.0070e-05 - acc: 1.0000 - val_loss: 0.0697 - val_acc: 0.9847\n",
            "\n",
            "Training ✓\n",
            "\n"
          ],
          "name": "stdout"
        }
      ]
    },
    {
      "metadata": {
        "id": "LIiGK4zfBTPj",
        "colab_type": "text"
      },
      "cell_type": "markdown",
      "source": [
        "### Results to evaluate the model\n",
        "\n",
        "Now we will evaluate the model we have on the test set to see the accuracy we get."
      ]
    },
    {
      "metadata": {
        "id": "oSiyA5lB55qW",
        "colab_type": "code",
        "colab": {
          "base_uri": "https://localhost:8080/",
          "height": 68
        },
        "outputId": "10c08ce4-4eac-4155-f4ed-154a3fbbc882"
      },
      "cell_type": "code",
      "source": [
        "(error, accuracy) = model.evaluate(x_test, y_test)\n",
        "print( \"test error = \", error)\n",
        "print(\"accuracy = \", accuracy*100, \"%\")"
      ],
      "execution_count": 7,
      "outputs": [
        {
          "output_type": "stream",
          "text": [
            "10000/10000 [==============================] - 1s 59us/step\n",
            "test error =  0.06974186883693952\n",
            "accuracy =  98.47 %\n"
          ],
          "name": "stdout"
        }
      ]
    },
    {
      "metadata": {
        "id": "wXS_MxM3BlyM",
        "colab_type": "text"
      },
      "cell_type": "markdown",
      "source": [
        "*End of the Project :)*"
      ]
    },
    {
      "metadata": {
        "id": "fP94GYtBFO5m",
        "colab_type": "text"
      },
      "cell_type": "markdown",
      "source": [
        "[Drive](https://colab.research.google.com/drive/1CaoOf0YDyWBvkRGSHfUxM4bHuO2t4o5x#scrollTo=ZPEnZkhuwcRK)"
      ]
    },
    {
      "metadata": {
        "id": "Zi7VIvpnBo6a",
        "colab_type": "code",
        "colab": {
          "base_uri": "https://localhost:8080/",
          "height": 68
        },
        "outputId": "0dc6488b-981f-4d0a-a71a-df961e6693c4"
      },
      "cell_type": "code",
      "source": [
        "print(\"\\nPROJECT ✓\\n\")"
      ],
      "execution_count": 8,
      "outputs": [
        {
          "output_type": "stream",
          "text": [
            "\n",
            "PROJECT ✓\n",
            "\n"
          ],
          "name": "stdout"
        }
      ]
    },
    {
      "metadata": {
        "id": "ZPEnZkhuwcRK",
        "colab_type": "code",
        "colab": {}
      },
      "cell_type": "code",
      "source": [
        ""
      ],
      "execution_count": 0,
      "outputs": []
    }
  ]
}